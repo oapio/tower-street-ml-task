{
 "cells": [
  {
   "cell_type": "markdown",
   "metadata": {},
   "source": [
    "# Predicting breach probability"
   ]
  },
  {
   "cell_type": "markdown",
   "metadata": {},
   "source": [
    "### Requirements"
   ]
  },
  {
   "cell_type": "code",
   "execution_count": 43,
   "metadata": {
    "collapsed": true
   },
   "outputs": [],
   "source": [
    "# pip install -U pandas\n",
    "# pip install -U scikit-learn"
   ]
  },
  {
   "cell_type": "markdown",
   "metadata": {},
   "source": [
    "### Dataset"
   ]
  },
  {
   "cell_type": "code",
   "execution_count": 44,
   "metadata": {
    "collapsed": true
   },
   "outputs": [],
   "source": [
    "import pandas as pd\n",
    "from sklearn.metrics import log_loss"
   ]
  },
  {
   "cell_type": "code",
   "execution_count": 45,
   "metadata": {
    "collapsed": false
   },
   "outputs": [
    {
     "name": "stdout",
     "output_type": "stream",
     "text": [
      "<class 'pandas.core.frame.DataFrame'>\n",
      "RangeIndex: 21527 entries, 0 to 21526\n",
      "Data columns (total 81 columns):\n",
      "breached                                21527 non-null int64\n",
      "company_id                              21527 non-null int64\n",
      "breach_date_published                   652 non-null object\n",
      "date_of_incorporation                   6031 non-null object\n",
      "capital                                 4864 non-null float64\n",
      "cash_and_cash_equivalent                4782 non-null float64\n",
      "cash_flow                               4633 non-null float64\n",
      "cash_flow_operating_revenue             4461 non-null float64\n",
      "collection_period                       4725 non-null float64\n",
      "costs_of_goods_sold                     4682 non-null float64\n",
      "credit_period                           4699 non-null float64\n",
      "creditors                               4801 non-null float64\n",
      "current_assets                          4825 non-null float64\n",
      "current_liabilities                     4825 non-null float64\n",
      "current_ratio                           4806 non-null float64\n",
      "debtors                                 4820 non-null float64\n",
      "depreciation_and_amortization           4629 non-null float64\n",
      "ebit_margin                             4595 non-null float64\n",
      "ebitda                                  4761 non-null float64\n",
      "ebitda_margin                           4584 non-null float64\n",
      "enterprise_value                        4690 non-null float64\n",
      "enterprise_value_ebitda                 4690 non-null float64\n",
      "financial_expenses                      4642 non-null float64\n",
      "financial_pl                            4789 non-null float64\n",
      "fixed_assets                            5326 non-null float64\n",
      "gearing                                 4487 non-null float64\n",
      "gross_margin                            4470 non-null float64\n",
      "gross_profit                            4683 non-null float64\n",
      "intangible_fixed_assets                 4816 non-null float64\n",
      "interest_cover                          3665 non-null float64\n",
      "interest_paid                           3798 non-null float64\n",
      "liquidity_ratio                         4801 non-null float64\n",
      "loans                                   5306 non-null float64\n",
      "long_term_debt                          4762 non-null float64\n",
      "market_cap                              5864 non-null float64\n",
      "market_cap_cash_flow_from_operations    5864 non-null float64\n",
      "net_assets_turnover                     4742 non-null float64\n",
      "net_current_assets                      4818 non-null float64\n",
      "noncurrent_liabilities                  4825 non-null float64\n",
      "number_of_branches                      6432 non-null float64\n",
      "number_of_employees                     5184 non-null float64\n",
      "number_of_shareholders                  6432 non-null float64\n",
      "number_of_subsidiaries                  6432 non-null float64\n",
      "operating_pl                            4804 non-null float64\n",
      "operating_revenue                       6031 non-null float64\n",
      "operating_revenue_per_employee          4606 non-null float64\n",
      "other_current_assets                    4815 non-null float64\n",
      "other_current_liabilities               4806 non-null float64\n",
      "other_fixed_assets                      4816 non-null float64\n",
      "other_noncurrent_liabilities            4762 non-null float64\n",
      "other_operating_expenses                6031 non-null float64\n",
      "other_shareholders_funds                4820 non-null float64\n",
      "pl_after_tax                            4818 non-null float64\n",
      "pl_before_tax                           5420 non-null float64\n",
      "pl_for_period                           5430 non-null float64\n",
      "price_earning_ratio                     4217 non-null float64\n",
      "profit_and_loss                         5537 non-null float64\n",
      "profit_margin                           5132 non-null float64\n",
      "profit_per_employee                     3770 non-null float64\n",
      "randd_expenses_operating_revenue        2325 non-null float64\n",
      "research_and_development_expenses       2466 non-null float64\n",
      "roa_using_net_income                    5302 non-null float64\n",
      "roa_using_pl_before_tax                 5382 non-null float64\n",
      "roce_using_net_income                   3788 non-null float64\n",
      "roce_using_pl_before_tax                3788 non-null float64\n",
      "roe_using_net_income                    5084 non-null float64\n",
      "roe_using_pl_before_tax                 5168 non-null float64\n",
      "sales                                   4706 non-null float64\n",
      "shareholders_funds                      5435 non-null float64\n",
      "shareholders_funds_per_employee         3782 non-null float64\n",
      "shareholders_liquidity_ratio            4679 non-null float64\n",
      "solvency_ratio                          5428 non-null float64\n",
      "stock                                   4815 non-null float64\n",
      "stock_turnover                          3192 non-null float64\n",
      "tangible_fixed_assets                   4816 non-null float64\n",
      "taxation                                4503 non-null float64\n",
      "total_assets                            5542 non-null float64\n",
      "total_assets_per_employee               4155 non-null float64\n",
      "total_shareh_funds_and_liab             4825 non-null float64\n",
      "working_capital                         3136 non-null float64\n",
      "working_capital_per_employee            2726 non-null float64\n",
      "dtypes: float64(77), int64(2), object(2)\n",
      "memory usage: 13.3+ MB\n"
     ]
    }
   ],
   "source": [
    "# loading the dataset and overview of its columns\n",
    "dataset = pd.read_csv(\"./breach_dataset.tsv\", sep=\"\\t\",  encoding=\"utf-8\", \n",
    "                      header=0, index_col=None)\n",
    "dataset.info()"
   ]
  },
  {
   "cell_type": "markdown",
   "metadata": {},
   "source": [
    "#### Important columns:\n",
    "* **breached** - 1 if company was breached, 0 otherwise **(the label we want to predict)**\n",
    "* **company_id** - id of a publicly traded company that was breached\n",
    "* **breach_date_published** - date when the breach was made public"
   ]
  },
  {
   "cell_type": "code",
   "execution_count": 46,
   "metadata": {
    "collapsed": false
   },
   "outputs": [
    {
     "data": {
      "text/plain": [
       "Index([u'date_of_incorporation', u'capital', u'cash_and_cash_equivalent',\n",
       "       u'cash_flow', u'cash_flow_operating_revenue', u'collection_period',\n",
       "       u'costs_of_goods_sold', u'credit_period', u'creditors',\n",
       "       u'current_assets', u'current_liabilities', u'current_ratio', u'debtors',\n",
       "       u'depreciation_and_amortization', u'ebit_margin', u'ebitda',\n",
       "       u'ebitda_margin', u'enterprise_value', u'enterprise_value_ebitda',\n",
       "       u'financial_expenses', u'financial_pl', u'fixed_assets', u'gearing',\n",
       "       u'gross_margin', u'gross_profit', u'intangible_fixed_assets',\n",
       "       u'interest_cover', u'interest_paid', u'liquidity_ratio', u'loans',\n",
       "       u'long_term_debt', u'market_cap',\n",
       "       u'market_cap_cash_flow_from_operations', u'net_assets_turnover',\n",
       "       u'net_current_assets', u'noncurrent_liabilities', u'number_of_branches',\n",
       "       u'number_of_employees', u'number_of_shareholders',\n",
       "       u'number_of_subsidiaries', u'operating_pl', u'operating_revenue',\n",
       "       u'operating_revenue_per_employee', u'other_current_assets',\n",
       "       u'other_current_liabilities', u'other_fixed_assets',\n",
       "       u'other_noncurrent_liabilities', u'other_operating_expenses',\n",
       "       u'other_shareholders_funds', u'pl_after_tax', u'pl_before_tax',\n",
       "       u'pl_for_period', u'price_earning_ratio', u'profit_and_loss',\n",
       "       u'profit_margin', u'profit_per_employee',\n",
       "       u'randd_expenses_operating_revenue',\n",
       "       u'research_and_development_expenses', u'roa_using_net_income',\n",
       "       u'roa_using_pl_before_tax', u'roce_using_net_income',\n",
       "       u'roce_using_pl_before_tax', u'roe_using_net_income',\n",
       "       u'roe_using_pl_before_tax', u'sales', u'shareholders_funds',\n",
       "       u'shareholders_funds_per_employee', u'shareholders_liquidity_ratio',\n",
       "       u'solvency_ratio', u'stock', u'stock_turnover',\n",
       "       u'tangible_fixed_assets', u'taxation', u'total_assets',\n",
       "       u'total_assets_per_employee', u'total_shareh_funds_and_liab',\n",
       "       u'working_capital', u'working_capital_per_employee'],\n",
       "      dtype='object')"
      ]
     },
     "execution_count": 46,
     "metadata": {},
     "output_type": "execute_result"
    }
   ],
   "source": [
    "# company features to use for your predictions\n",
    "dataset.columns[3:]"
   ]
  },
  {
   "cell_type": "code",
   "execution_count": 47,
   "metadata": {
    "collapsed": false
   },
   "outputs": [
    {
     "data": {
      "text/plain": [
       "breached\n",
       "0    20875\n",
       "1      652\n",
       "Name: company_id, dtype: int64"
      ]
     },
     "execution_count": 47,
     "metadata": {},
     "output_type": "execute_result"
    }
   ],
   "source": [
    "# the breaches are very sparse events\n",
    "breached_count = dataset.groupby(\"breached\").count()[\"company_id\"]\n",
    "breached_count"
   ]
  },
  {
   "cell_type": "markdown",
   "metadata": {},
   "source": [
    "### Evaluation"
   ]
  },
  {
   "cell_type": "code",
   "execution_count": 48,
   "metadata": {
    "collapsed": false
   },
   "outputs": [
    {
     "data": {
      "text/plain": [
       "0.031233532934131735"
      ]
     },
     "execution_count": 48,
     "metadata": {},
     "output_type": "execute_result"
    }
   ],
   "source": [
    "# average breach probability as a baseline\n",
    "prob = breached_count.values[1] / float(breached_count.values[0])\n",
    "prob"
   ]
  },
  {
   "cell_type": "code",
   "execution_count": 49,
   "metadata": {
    "collapsed": false
   },
   "outputs": [
    {
     "data": {
      "text/plain": [
       "0.1357552241215042"
      ]
     },
     "execution_count": 49,
     "metadata": {},
     "output_type": "execute_result"
    }
   ],
   "source": [
    "# use logarithmic loss metric to evaluate your prediction\n",
    "log_loss(dataset[\"breached\"], [prob] * len(dataset))"
   ]
  },
  {
   "cell_type": "code",
   "execution_count": null,
   "metadata": {
    "collapsed": true
   },
   "outputs": [],
   "source": []
  }
 ],
 "metadata": {
  "kernelspec": {
   "display_name": "Python 2",
   "language": "python",
   "name": "python2"
  },
  "language_info": {
   "codemirror_mode": {
    "name": "ipython",
    "version": 2
   },
   "file_extension": ".py",
   "mimetype": "text/x-python",
   "name": "python",
   "nbconvert_exporter": "python",
   "pygments_lexer": "ipython2",
   "version": "2.7.12+"
  }
 },
 "nbformat": 4,
 "nbformat_minor": 1
}
